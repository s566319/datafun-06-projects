{
 "cells": [
  {
   "attachments": {},
   "cell_type": "markdown",
   "metadata": {},
   "source": []
  },
  {
   "attachments": {},
   "cell_type": "markdown",
   "metadata": {},
   "source": [
    "# Module 6 Project: Task 3- Exploratory Data Project on Latvia"
   ]
  },
  {
   "attachments": {},
   "cell_type": "markdown",
   "metadata": {},
   "source": [
    "Author: [Inga Miller](https://github.com/s566319) Repository: https://github.com/s566319/datafun-06-projects\n",
    "Date- 6/18/2023"
   ]
  },
  {
   "attachments": {},
   "cell_type": "markdown",
   "metadata": {},
   "source": [
    "This data set contains records on what sites to visit while in Latvia. It will show us the sites, the location, and the criteria of the review from Trip Advisor.  The criteria is ranked from highest (Excellent) to lowest (Terrible). It also provides the best routes of getting to the particular destination in Latvia and the cost of it."
   ]
  },
  {
   "attachments": {},
   "cell_type": "markdown",
   "metadata": {},
   "source": [
    "## Section 1-Load"
   ]
  },
  {
   "cell_type": "code",
   "execution_count": 37,
   "metadata": {},
   "outputs": [],
   "source": [
    "# Section 1-Load: Get the file, store it in your repo, and load it into a DataFrame. \n",
    "\n",
    "import pandas as pd\n",
    "sites = pd.read_csv ('Best_ Touristics _sites _in _Latvia - Sheet1.csv')"
   ]
  },
  {
   "attachments": {},
   "cell_type": "markdown",
   "metadata": {},
   "source": [
    "## Section 2-View"
   ]
  },
  {
   "cell_type": "code",
   "execution_count": 38,
   "metadata": {},
   "outputs": [
    {
     "data": {
      "text/html": [
       "<div>\n",
       "<style scoped>\n",
       "    .dataframe tbody tr th:only-of-type {\n",
       "        vertical-align: middle;\n",
       "    }\n",
       "\n",
       "    .dataframe tbody tr th {\n",
       "        vertical-align: top;\n",
       "    }\n",
       "\n",
       "    .dataframe thead th {\n",
       "        text-align: right;\n",
       "    }\n",
       "</style>\n",
       "<table border=\"1\" class=\"dataframe\">\n",
       "  <thead>\n",
       "    <tr style=\"text-align: right;\">\n",
       "      <th></th>\n",
       "      <th>Destination</th>\n",
       "      <th>Location</th>\n",
       "      <th>No_of_Excellent</th>\n",
       "      <th>Very_Good</th>\n",
       "      <th>Average</th>\n",
       "      <th>poor</th>\n",
       "      <th>Terrible</th>\n",
       "      <th>Total_Review</th>\n",
       "      <th>Rating</th>\n",
       "      <th>Transport_means</th>\n",
       "      <th>Tour_cost</th>\n",
       "    </tr>\n",
       "  </thead>\n",
       "  <tbody>\n",
       "    <tr>\n",
       "      <th>0</th>\n",
       "      <td>Old City Riga (Vecriga)</td>\n",
       "      <td>Center</td>\n",
       "      <td>4,943</td>\n",
       "      <td>1,867</td>\n",
       "      <td>294</td>\n",
       "      <td>38</td>\n",
       "      <td>15</td>\n",
       "      <td>7,157</td>\n",
       "      <td>4.5</td>\n",
       "      <td>walk, tour bike</td>\n",
       "      <td>5-10eurs</td>\n",
       "    </tr>\n",
       "    <tr>\n",
       "      <th>1</th>\n",
       "      <td>Jurmala Beach</td>\n",
       "      <td>Jurmala</td>\n",
       "      <td>1,110</td>\n",
       "      <td>556</td>\n",
       "      <td>144</td>\n",
       "      <td>29</td>\n",
       "      <td>7</td>\n",
       "      <td>1,846</td>\n",
       "      <td>4.5</td>\n",
       "      <td>bus,train,taxi</td>\n",
       "      <td>1,50-3eurs</td>\n",
       "    </tr>\n",
       "    <tr>\n",
       "      <th>2</th>\n",
       "      <td>Dzintari Forest Park</td>\n",
       "      <td>Jurmala</td>\n",
       "      <td>394</td>\n",
       "      <td>86</td>\n",
       "      <td>13</td>\n",
       "      <td>1</td>\n",
       "      <td>0</td>\n",
       "      <td>494</td>\n",
       "      <td>5.0</td>\n",
       "      <td>bus,train,taxi</td>\n",
       "      <td>1,50-3eurs</td>\n",
       "    </tr>\n",
       "  </tbody>\n",
       "</table>\n",
       "</div>"
      ],
      "text/plain": [
       "               Destination Location No_of_Excellent Very_Good  Average  poor  \\\n",
       "0  Old City Riga (Vecriga)   Center           4,943     1,867      294    38   \n",
       "1            Jurmala Beach  Jurmala           1,110       556      144    29   \n",
       "2     Dzintari Forest Park  Jurmala             394        86       13     1   \n",
       "\n",
       "   Terrible Total_Review  Rating  Transport_means   Tour_cost  \n",
       "0        15        7,157     4.5  walk, tour bike    5-10eurs  \n",
       "1         7        1,846     4.5   bus,train,taxi  1,50-3eurs  \n",
       "2         0          494     5.0   bus,train,taxi  1,50-3eurs  "
      ]
     },
     "execution_count": 38,
     "metadata": {},
     "output_type": "execute_result"
    }
   ],
   "source": [
    "# Section 2-View: Display the first 3 rows and the last 3 rows.  \n",
    "# This section will let us choose on the Top 3 sites to visit- if we only have time for 3.\n",
    "# And which sites we can easily eliminate based on the Trip Advisor ranking.\n",
    "\n",
    "sites.head(3)"
   ]
  },
  {
   "cell_type": "code",
   "execution_count": 39,
   "metadata": {},
   "outputs": [
    {
     "data": {
      "text/html": [
       "<div>\n",
       "<style scoped>\n",
       "    .dataframe tbody tr th:only-of-type {\n",
       "        vertical-align: middle;\n",
       "    }\n",
       "\n",
       "    .dataframe tbody tr th {\n",
       "        vertical-align: top;\n",
       "    }\n",
       "\n",
       "    .dataframe thead th {\n",
       "        text-align: right;\n",
       "    }\n",
       "</style>\n",
       "<table border=\"1\" class=\"dataframe\">\n",
       "  <thead>\n",
       "    <tr style=\"text-align: right;\">\n",
       "      <th></th>\n",
       "      <th>Destination</th>\n",
       "      <th>Location</th>\n",
       "      <th>No_of_Excellent</th>\n",
       "      <th>Very_Good</th>\n",
       "      <th>Average</th>\n",
       "      <th>poor</th>\n",
       "      <th>Terrible</th>\n",
       "      <th>Total_Review</th>\n",
       "      <th>Rating</th>\n",
       "      <th>Transport_means</th>\n",
       "      <th>Tour_cost</th>\n",
       "    </tr>\n",
       "  </thead>\n",
       "  <tbody>\n",
       "    <tr>\n",
       "      <th>22</th>\n",
       "      <td>Latgale Zoological Garden</td>\n",
       "      <td>Daugavpils</td>\n",
       "      <td>32</td>\n",
       "      <td>13</td>\n",
       "      <td>4</td>\n",
       "      <td>1</td>\n",
       "      <td>2</td>\n",
       "      <td>52</td>\n",
       "      <td>4.5</td>\n",
       "      <td>bus.train</td>\n",
       "      <td>1,50-5eurs</td>\n",
       "    </tr>\n",
       "    <tr>\n",
       "      <th>23</th>\n",
       "      <td>Gutmanis Cave</td>\n",
       "      <td>sigulda</td>\n",
       "      <td>58</td>\n",
       "      <td>87</td>\n",
       "      <td>133</td>\n",
       "      <td>41</td>\n",
       "      <td>15</td>\n",
       "      <td>334</td>\n",
       "      <td>3.5</td>\n",
       "      <td>bus.train</td>\n",
       "      <td>2-5eurs</td>\n",
       "    </tr>\n",
       "    <tr>\n",
       "      <th>24</th>\n",
       "      <td>Holy Trinity Church</td>\n",
       "      <td>Jelgava</td>\n",
       "      <td>41</td>\n",
       "      <td>13</td>\n",
       "      <td>4</td>\n",
       "      <td>1</td>\n",
       "      <td>1</td>\n",
       "      <td>60</td>\n",
       "      <td>4.5</td>\n",
       "      <td>bus.train</td>\n",
       "      <td>1,50-3eurs</td>\n",
       "    </tr>\n",
       "  </tbody>\n",
       "</table>\n",
       "</div>"
      ],
      "text/plain": [
       "                  Destination    Location No_of_Excellent Very_Good  Average  \\\n",
       "22  Latgale Zoological Garden  Daugavpils              32        13        4   \n",
       "23              Gutmanis Cave     sigulda              58        87      133   \n",
       "24        Holy Trinity Church     Jelgava              41        13        4   \n",
       "\n",
       "    poor  Terrible Total_Review  Rating Transport_means   Tour_cost  \n",
       "22     1         2           52     4.5       bus.train  1,50-5eurs  \n",
       "23    41        15          334     3.5       bus.train     2-5eurs  \n",
       "24     1         1           60     4.5       bus.train  1,50-3eurs  "
      ]
     },
     "execution_count": 39,
     "metadata": {},
     "output_type": "execute_result"
    }
   ],
   "source": [
    "sites.tail(3)"
   ]
  },
  {
   "attachments": {},
   "cell_type": "markdown",
   "metadata": {},
   "source": [
    "## Section 3-Describe"
   ]
  },
  {
   "cell_type": "code",
   "execution_count": 40,
   "metadata": {},
   "outputs": [
    {
     "data": {
      "text/html": [
       "<div>\n",
       "<style scoped>\n",
       "    .dataframe tbody tr th:only-of-type {\n",
       "        vertical-align: middle;\n",
       "    }\n",
       "\n",
       "    .dataframe tbody tr th {\n",
       "        vertical-align: top;\n",
       "    }\n",
       "\n",
       "    .dataframe thead th {\n",
       "        text-align: right;\n",
       "    }\n",
       "</style>\n",
       "<table border=\"1\" class=\"dataframe\">\n",
       "  <thead>\n",
       "    <tr style=\"text-align: right;\">\n",
       "      <th></th>\n",
       "      <th>Average</th>\n",
       "      <th>poor</th>\n",
       "      <th>Terrible</th>\n",
       "      <th>Rating</th>\n",
       "    </tr>\n",
       "  </thead>\n",
       "  <tbody>\n",
       "    <tr>\n",
       "      <th>count</th>\n",
       "      <td>25.00</td>\n",
       "      <td>25.00</td>\n",
       "      <td>25.00</td>\n",
       "      <td>25.00</td>\n",
       "    </tr>\n",
       "    <tr>\n",
       "      <th>mean</th>\n",
       "      <td>76.24</td>\n",
       "      <td>14.96</td>\n",
       "      <td>7.52</td>\n",
       "      <td>4.38</td>\n",
       "    </tr>\n",
       "    <tr>\n",
       "      <th>std</th>\n",
       "      <td>102.00</td>\n",
       "      <td>20.95</td>\n",
       "      <td>10.63</td>\n",
       "      <td>0.30</td>\n",
       "    </tr>\n",
       "    <tr>\n",
       "      <th>min</th>\n",
       "      <td>0.00</td>\n",
       "      <td>0.00</td>\n",
       "      <td>0.00</td>\n",
       "      <td>3.50</td>\n",
       "    </tr>\n",
       "    <tr>\n",
       "      <th>25%</th>\n",
       "      <td>13.00</td>\n",
       "      <td>2.00</td>\n",
       "      <td>1.00</td>\n",
       "      <td>4.50</td>\n",
       "    </tr>\n",
       "    <tr>\n",
       "      <th>50%</th>\n",
       "      <td>22.00</td>\n",
       "      <td>4.00</td>\n",
       "      <td>3.00</td>\n",
       "      <td>4.50</td>\n",
       "    </tr>\n",
       "    <tr>\n",
       "      <th>75%</th>\n",
       "      <td>121.00</td>\n",
       "      <td>26.00</td>\n",
       "      <td>9.00</td>\n",
       "      <td>4.50</td>\n",
       "    </tr>\n",
       "    <tr>\n",
       "      <th>max</th>\n",
       "      <td>423.00</td>\n",
       "      <td>94.00</td>\n",
       "      <td>43.00</td>\n",
       "      <td>5.00</td>\n",
       "    </tr>\n",
       "  </tbody>\n",
       "</table>\n",
       "</div>"
      ],
      "text/plain": [
       "       Average   poor  Terrible  Rating\n",
       "count    25.00  25.00     25.00   25.00\n",
       "mean     76.24  14.96      7.52    4.38\n",
       "std     102.00  20.95     10.63    0.30\n",
       "min       0.00   0.00      0.00    3.50\n",
       "25%      13.00   2.00      1.00    4.50\n",
       "50%      22.00   4.00      3.00    4.50\n",
       "75%     121.00  26.00      9.00    4.50\n",
       "max     423.00  94.00     43.00    5.00"
      ]
     },
     "execution_count": 40,
     "metadata": {},
     "output_type": "execute_result"
    }
   ],
   "source": [
    "# Section 3-Describe: Use the DataFrame describe() function to calculate basic descriptive statistics for all numeric columns. \n",
    "\n",
    "pd.set_option(\"display.precision\", 2)\n",
    "sites.describe()"
   ]
  },
  {
   "attachments": {},
   "cell_type": "markdown",
   "metadata": {},
   "source": [
    "## Section 4-Series"
   ]
  },
  {
   "cell_type": "code",
   "execution_count": 41,
   "metadata": {},
   "outputs": [
    {
     "data": {
      "text/html": [
       "<div>\n",
       "<style scoped>\n",
       "    .dataframe tbody tr th:only-of-type {\n",
       "        vertical-align: middle;\n",
       "    }\n",
       "\n",
       "    .dataframe tbody tr th {\n",
       "        vertical-align: top;\n",
       "    }\n",
       "\n",
       "    .dataframe thead th {\n",
       "        text-align: right;\n",
       "    }\n",
       "</style>\n",
       "<table border=\"1\" class=\"dataframe\">\n",
       "  <thead>\n",
       "    <tr style=\"text-align: right;\">\n",
       "      <th></th>\n",
       "      <th>Destination</th>\n",
       "      <th>Location</th>\n",
       "      <th>No_of_Excellent</th>\n",
       "      <th>Very_Good</th>\n",
       "      <th>Total_Review</th>\n",
       "      <th>Transport_means</th>\n",
       "      <th>Tour_cost</th>\n",
       "    </tr>\n",
       "  </thead>\n",
       "  <tbody>\n",
       "    <tr>\n",
       "      <th>count</th>\n",
       "      <td>25</td>\n",
       "      <td>25</td>\n",
       "      <td>25</td>\n",
       "      <td>25</td>\n",
       "      <td>25</td>\n",
       "      <td>25</td>\n",
       "      <td>25</td>\n",
       "    </tr>\n",
       "    <tr>\n",
       "      <th>unique</th>\n",
       "      <td>25</td>\n",
       "      <td>12</td>\n",
       "      <td>25</td>\n",
       "      <td>24</td>\n",
       "      <td>25</td>\n",
       "      <td>5</td>\n",
       "      <td>9</td>\n",
       "    </tr>\n",
       "    <tr>\n",
       "      <th>top</th>\n",
       "      <td>Old City Riga (Vecriga)</td>\n",
       "      <td>Jurmala</td>\n",
       "      <td>4,943</td>\n",
       "      <td>13</td>\n",
       "      <td>7,157</td>\n",
       "      <td>bus.train</td>\n",
       "      <td>1,50-3eurs</td>\n",
       "    </tr>\n",
       "    <tr>\n",
       "      <th>freq</th>\n",
       "      <td>1</td>\n",
       "      <td>7</td>\n",
       "      <td>1</td>\n",
       "      <td>2</td>\n",
       "      <td>1</td>\n",
       "      <td>17</td>\n",
       "      <td>10</td>\n",
       "    </tr>\n",
       "  </tbody>\n",
       "</table>\n",
       "</div>"
      ],
      "text/plain": [
       "                    Destination Location No_of_Excellent Very_Good  \\\n",
       "count                        25       25              25        25   \n",
       "unique                       25       12              25        24   \n",
       "top     Old City Riga (Vecriga)  Jurmala           4,943        13   \n",
       "freq                          1        7               1         2   \n",
       "\n",
       "       Total_Review Transport_means   Tour_cost  \n",
       "count            25              25          25  \n",
       "unique           25               5           9  \n",
       "top           7,157       bus.train  1,50-3eurs  \n",
       "freq              1              17          10  "
      ]
     },
     "execution_count": 41,
     "metadata": {},
     "output_type": "execute_result"
    }
   ],
   "source": [
    "# Section 4-Series: Use the Series method describe() to calculate the descriptive stats for all category/text columns.\n",
    "\n",
    "sites.describe(include=[object])"
   ]
  },
  {
   "attachments": {},
   "cell_type": "markdown",
   "metadata": {},
   "source": [
    "## Section 5-Unique"
   ]
  },
  {
   "cell_type": "code",
   "execution_count": 42,
   "metadata": {},
   "outputs": [
    {
     "data": {
      "text/plain": [
       "array(['Old City Riga (Vecriga)', 'Jurmala Beach', 'Dzintari Forest Park',\n",
       "       'Kemeri National Park', 'Turaida Castle', 'Riga Motormuseum',\n",
       "       'Bobsleigh', 'Northern Forts', 'Central Market', 'Karosta Prison',\n",
       "       'Daugavpils Mark Rothko Art Centre', 'Jomas Street',\n",
       "       'Old Sigulda Castle', 'House Of The Black Heads',\n",
       "       'Ventspils Beach', 'KGB Building', 'Jurmalas Park',\n",
       "       'Cēsis Medieval Castle', 'Brunurupucis (The Turtle)',\n",
       "       'Viewing Tower by Architect Bureau ARHIS', 'Cable Car Across Gaya',\n",
       "       'Venta Rapid Waterfall', 'Latgale Zoological Garden',\n",
       "       'Gutmanis Cave', 'Holy Trinity Church'], dtype=object)"
      ]
     },
     "execution_count": 42,
     "metadata": {},
     "output_type": "execute_result"
    }
   ],
   "source": [
    "# Section 5-Unique: Use the Series method unique() to get unique category values. \n",
    "\n",
    "sites[\"Destination\"].unique()"
   ]
  },
  {
   "cell_type": "code",
   "execution_count": 43,
   "metadata": {},
   "outputs": [
    {
     "data": {
      "text/plain": [
       "array(['Center', 'Jurmala', 'sigulda', 'Eizenšteina iela 6', 'Liepaja',\n",
       "       'center', 'Daugavpils', 'old Riga', 'Ventspils', 'Cesis',\n",
       "       'kuldiga', 'Jelgava'], dtype=object)"
      ]
     },
     "execution_count": 43,
     "metadata": {},
     "output_type": "execute_result"
    }
   ],
   "source": [
    "sites[\"Location\"].unique()"
   ]
  },
  {
   "attachments": {},
   "cell_type": "markdown",
   "metadata": {},
   "source": [
    "## Section 6-Histograms"
   ]
  },
  {
   "cell_type": "code",
   "execution_count": 44,
   "metadata": {},
   "outputs": [
    {
     "data": {
      "image/png": "[encoded data removed]",
      "text/plain": [
       "<Figure size 640x480 with 4 Axes>"
      ]
     },
     "metadata": {},
     "output_type": "display_data"
    }
   ],
   "source": [
    "# Section 6-Histograms: Use the DataFrame's hist() function to create a histogram for each numerical column.\n",
    "\n",
    "%matplotlib inline\n",
    "histogram = sites.hist()"
   ]
  }
 ],
 "metadata": {
  "kernelspec": {
   "display_name": "Python (.venv)",
   "language": "python",
   "name": ".venv"
  },
  "language_info": {
   "codemirror_mode": {
    "name": "ipython",
    "version": 3
   },
   "file_extension": ".py",
   "mimetype": "text/x-python",
   "name": "python",
   "nbconvert_exporter": "python",
   "pygments_lexer": "ipython3",
   "version": "3.11.3"
  },
  "orig_nbformat": 4
 },
 "nbformat": 4,
 "nbformat_minor": 2
}
